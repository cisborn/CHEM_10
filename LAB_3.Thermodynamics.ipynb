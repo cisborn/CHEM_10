{
 "cells": [
  {
   "cell_type": "markdown",
   "id": "835ef9ad-3d8f-4213-b98e-8cc2a7304036",
   "metadata": {},
   "source": [
    "# CHEM 10 - Lab 3: Thermodynamics: Vaporization of Water"
   ]
  },
  {
   "cell_type": "markdown",
   "id": "9dbbf91a-c958-4c6f-a1d0-b81f53002ecb",
   "metadata": {},
   "source": [
    "In this lab you will measure the partial pressure of water vapor via Dalton's Law and determine the entropy and enthalpy of vaporization of water by plotting your data with the Clausius-Clapeyron relationship.  You will be measuring the volume of air in your graduated cylinder at various temperatures, then will do some calculations to find the vapor pressure of water at each temperature using Dalton’s law of partial pressures. \n",
    "\n",
    "This Jupyter notebook will guide you through the calculations needed as well as how to make a plot of ln P_water vs 1/T, then the steps to find the best fit line (via linear regression). The equation of the best fit line with the Clausius-Clapeyron equation can be used to determine the enthalpy and entropy of vaporization. A sample text files with data is provided, but you will need to use your own data. You can either replace this data with your data in this file, or make a new file and update the code below with the names of the new files. Three values measured in lab should be entered below: the barometric pressure of the atmosphere, and the cold temperature and corresponding volume at that cold temperature. These will be used to determine the number of moles of air. "
   ]
  },
  {
   "cell_type": "markdown",
   "id": "87408878-00af-4d5b-b8cf-b3106c37e98f",
   "metadata": {},
   "source": [
    "First, load some of the python libraries. This will help us with some calculations and making plots."
   ]
  },
  {
   "cell_type": "code",
   "execution_count": 3,
   "id": "be62e7ac-2745-4371-8083-00c1af8e50a5",
   "metadata": {},
   "outputs": [],
   "source": [
    "import numpy\n",
    "import scipy\n",
    "import matplotlib.pyplot as plt\n",
    "from scipy import stats"
   ]
  },
  {
   "cell_type": "code",
   "execution_count": 30,
   "id": "debf1398-9cd4-476b-aad7-f028a6f38ca2",
   "metadata": {},
   "outputs": [],
   "source": [
    "# Set up any constants, general measurements we will use\n",
    "R = 0.082057   #L atm mol-1 K-1\n",
    "P_room = 29.61 # barometric pressure measured in the room, in inches of Hg\n",
    "T_cold = 0.5 # cold temperature measurement, in Celsius\n",
    "V_cold = 3.4 # cold volume measurement, in mL"
   ]
  },
  {
   "cell_type": "markdown",
   "id": "2ce4fd1b-5f1f-40f5-8afd-3fd82658bfe0",
   "metadata": {},
   "source": [
    "Next, set up some empty arrays that we will populate with the data you collected that you have put into the text files."
   ]
  },
  {
   "cell_type": "code",
   "execution_count": 7,
   "id": "d25c0284-4d52-408a-808b-286eaadd383d",
   "metadata": {},
   "outputs": [],
   "source": [
    "# Set up empty arrays for the data from the text files\n",
    "temperature =  [] \n",
    "volume = []"
   ]
  },
  {
   "cell_type": "markdown",
   "id": "ffd97e87-d905-48c4-b44e-41a2f5fd054f",
   "metadata": {},
   "source": [
    "Next, read in the data from the text file, 'LAB_3.temp_volume.txt'. This file should have your temperature values (in Celsius) and your volume values (in mL). The code is set up to read in data delimited (separated) by spaces, but depending on how you enter your data, you can change this to be tab (\\t) or comma delimited. The code below is set up to skip the first one line of text (the header). "
   ]
  },
  {
   "cell_type": "code",
   "execution_count": 8,
   "id": "e1bef265-9d59-4463-9349-841951038dbb",
   "metadata": {},
   "outputs": [
    {
     "name": "stdout",
     "output_type": "stream",
     "text": [
      "[['80.0' '7.7']\n",
      " ['75.0' '6.8']\n",
      " ['70.0' '5.8']\n",
      " ['65.0' '5.2']\n",
      " ['60.0' '4.9']\n",
      " ['55.0' '4.6']\n",
      " ['50.0' '4.4']]\n"
     ]
    }
   ],
   "source": [
    "# Read in the data from the txt file, but skip the header on the first line \n",
    "# The output of this function is a list of lists; that is, each row is a entry in our list, but each row is itself a list of values. \n",
    "file = ('LAB_3.temp_volume.txt')  \n",
    "values = numpy.genfromtxt(fname=file, skip_header=1, delimiter=None, dtype='unicode')\n",
    "print(values)"
   ]
  },
  {
   "cell_type": "code",
   "execution_count": 9,
   "id": "7bfdbbc9-3439-4b66-bc2e-2d071310e1b6",
   "metadata": {},
   "outputs": [],
   "source": [
    "# CI to do: set up arrays for the math so that a formatted table can be printed. "
   ]
  },
  {
   "cell_type": "markdown",
   "id": "1ef649e8-66de-4d7b-af8e-8f7eec52b9a9",
   "metadata": {},
   "source": [
    "Check that these values match what is in your data text file. Next, we will load these values from the text file into the arrays using a for loop in which we append each value (add to the end of the array). Sometimes it is useful to print things out along the way to understand what your code is doing. Feel free to remove the # in the print statements below to try and understand each step. Keep in mind that you are adding values to an array, so if you re-run the code in this cell, you will just keep adding values. To start from scratch, re-run the empty array code above first, then each code cell after. Here we are recasting our values from strings into floats."
   ]
  },
  {
   "cell_type": "code",
   "execution_count": 9,
   "id": "d85b07d4-ca50-4279-bc0a-b2399ac7de0c",
   "metadata": {},
   "outputs": [
    {
     "name": "stdout",
     "output_type": "stream",
     "text": [
      "[80.0, 75.0, 70.0, 65.0, 60.0, 55.0, 50.0]\n",
      "[7.7, 6.8, 5.8, 5.2, 4.9, 4.6, 4.4]\n"
     ]
    }
   ],
   "source": [
    "for i in range(0, len(values)):\n",
    "    #print(i)\n",
    "    #print(values[i,0])\n",
    "    temperature.append(float(values[i,0])); \n",
    "    volume.append(float(values[i,1]));\n",
    "\n",
    "print (temperature)\n",
    "print (volume)"
   ]
  },
  {
   "cell_type": "markdown",
   "id": "57b7d97c-0660-460f-af49-5ce70876cdba",
   "metadata": {},
   "source": [
    "Check that you have two separate arrays with the correct values. The lab report requires a table of values, so let's do that mathematical manipulation next. First, let's do the temperature, converted to Kelvin and inverse temp (1/T). "
   ]
  },
  {
   "cell_type": "code",
   "execution_count": 15,
   "id": "e76a8323-5451-4ed4-8afa-366f44323ee5",
   "metadata": {},
   "outputs": [],
   "source": [
    "# Set up empty arrays for the data \n",
    "temperature_K =  [] \n",
    "inverse_temperature_K = []"
   ]
  },
  {
   "cell_type": "code",
   "execution_count": 16,
   "id": "f22b18cb-48ca-48aa-9994-c3d1dce45a86",
   "metadata": {},
   "outputs": [
    {
     "name": "stdout",
     "output_type": "stream",
     "text": [
      "[353.15, 348.15, 343.15, 338.15, 333.15, 328.15, 323.15]\n",
      "[0.002831657935721365, 0.002872325147206664, 0.002914177473408131, 0.0029572674848440043, 0.0030016509079994, 0.0030473868657626088, 0.0030945381401825778]\n"
     ]
    }
   ],
   "source": [
    "for i in range(0, len(temperature)):\n",
    "    #print(i)\n",
    "    temperature_K.append(temperature[i]+273.15); \n",
    "    inverse_temperature_K.append(1/temperature_K[i]); \n",
    "\n",
    "print (temperature_K)\n",
    "print (inverse_temperature_K)"
   ]
  },
  {
   "cell_type": "markdown",
   "id": "3408b3b6-b0f8-41ee-b3b8-5ac81c8fadb5",
   "metadata": {},
   "source": [
    "Think about your values. Do they make sense based on the math that you did in the code? If so, next we convert the volume values, correcting for the 0.2 mL and converting from mL to L. "
   ]
  },
  {
   "cell_type": "code",
   "execution_count": 21,
   "id": "2e93907d-3ced-4646-9a68-37dc703bcdfa",
   "metadata": {},
   "outputs": [
    {
     "name": "stdout",
     "output_type": "stream",
     "text": [
      "[0.0075, 0.0066, 0.0056, 0.005, 0.0047, 0.004399999999999999, 0.004200000000000001]\n"
     ]
    }
   ],
   "source": [
    "# Set up empty arrays for the data \n",
    "volume_L =  [] \n",
    "\n",
    "# append new converted values to array\n",
    "for i in range(0, len(volume)):\n",
    "    #print(i)\n",
    "    volume_L.append((volume[i] - 0.2) / 1000); \n",
    "\n",
    "print (volume_L)"
   ]
  },
  {
   "cell_type": "markdown",
   "id": "e0617be8-2223-453b-ab56-eebf72c2a7a9",
   "metadata": {},
   "source": [
    "Think about your values. Do they make sense based on the math that you did in the code? If so, next we determine the number of moles of air from our cold temperature measurement using the ideal gas law, following Equation 4 from the lab procedure. This uses the values from the top of the noteboook that should be modified to fit your measured values from lab. Remember that we need to convert the units of pressure from inches of Hg to atm"
   ]
  },
  {
   "cell_type": "code",
   "execution_count": 31,
   "id": "5707ecdd-0d5b-4d42-89e7-5cd84e4d6a1b",
   "metadata": {},
   "outputs": [
    {
     "name": "stdout",
     "output_type": "stream",
     "text": [
      "0.00014102542669737784\n"
     ]
    }
   ],
   "source": [
    "# Equation 4\n",
    "n_air = ( (P_room * 25.4 / 760 ) * ((V_cold - 0.2) / 1000) ) / (R * (T_cold + 273.15))  \n",
    "print (n_air)"
   ]
  },
  {
   "cell_type": "markdown",
   "id": "998dc09c-dc21-4266-9d65-8a2ecd4ef161",
   "metadata": {},
   "source": [
    "You should get a small number here - around 10$^{-4}$. Now that the numer of moles is computed, we can use the law of partial pressures to determine the pressure values for the corresponding temperature and volume, Equation 5. We can also compute the vapor pressure of the water (Equation 6) and its natural log so we have everything we need to make the plot. "
   ]
  },
  {
   "cell_type": "code",
   "execution_count": 36,
   "id": "4d6ec648-921a-4512-a016-fe11dcf23171",
   "metadata": {},
   "outputs": [
    {
     "name": "stdout",
     "output_type": "stream",
     "text": [
      "[0.5448927189744871, 0.6104295113812301, 0.7091025282006403, 0.7826227081462104, 0.8202665794762805, 0.863043705987724, 0.8903646878936786]\n",
      "[0.4447046494465654, 0.37916785703982236, 0.28049484022041216, 0.20697466027484213, 0.16933078894477205, 0.12655366243332855, 0.09923268052737388]\n",
      "[-0.8103449262771345, -0.9697762773843839, -1.271199949124717, -1.5751589073411867, -1.7759011461013556, -2.0670888518066257, -2.3102878781448752]\n"
     ]
    }
   ],
   "source": [
    "# Set up empty arrays for the data \n",
    "pressure_air =  [] \n",
    "pressure_water =  [] \n",
    "log_pressure_water =  [] \n",
    "\n",
    "# Equations 5 and 6 \n",
    "# append new converted values to array\n",
    "for i in range(0, len(volume)):\n",
    "    #print(i)\n",
    "    pressure_air.append((n_air * R * temperature_K[i])/ volume_L[i])\n",
    "    pressure_water.append((P_room * 25.4 / 760 ) - pressure_air[i])\n",
    "    log_pressure_water.append(numpy.log(pressure_water[i]))\n",
    "\n",
    "print (pressure_air)\n",
    "print (pressure_water)\n",
    "print (log_pressure_water)"
   ]
  },
  {
   "cell_type": "markdown",
   "id": "968de8d5-1b30-4cdf-bdf9-92a82729254f",
   "metadata": {},
   "source": [
    "Ok, now everything is computed for the table and the plot. Let's print out all the values formatted for a table. "
   ]
  },
  {
   "cell_type": "code",
   "execution_count": 60,
   "id": "301d2c6a-e03c-4bea-8e69-4b19344bd072",
   "metadata": {},
   "outputs": [
    {
     "name": "stdout",
     "output_type": "stream",
     "text": [
      "T(C)\t T(K)\t  1/T(1/K)\t vol(mL) vol-0.2mL(L)\t  P_air\t         P_water\t  ln P_water\n",
      "80.0\t 353.15\t 0.002832\t 7.7\t   0.0075\t 0.544893\t 0.444705\t -0.810345 \n",
      "75.0\t 348.15\t 0.002872\t 6.8\t   0.0066\t 0.610430\t 0.379168\t -0.969776 \n",
      "70.0\t 343.15\t 0.002914\t 5.8\t   0.0056\t 0.709103\t 0.280495\t -1.271200 \n",
      "65.0\t 338.15\t 0.002957\t 5.2\t   0.0050\t 0.782623\t 0.206975\t -1.575159 \n",
      "60.0\t 333.15\t 0.003002\t 4.9\t   0.0047\t 0.820267\t 0.169331\t -1.775901 \n",
      "55.0\t 328.15\t 0.003047\t 4.6\t   0.0044\t 0.863044\t 0.126554\t -2.067089 \n",
      "50.0\t 323.15\t 0.003095\t 4.4\t   0.0042\t 0.890365\t 0.099233\t -2.310288 \n"
     ]
    }
   ],
   "source": [
    "print ('T(C)\\t T(K)\\t  1/T(1/K)\\t vol(mL) vol-0.2mL(L)\\t  P_air\\t         P_water\\t  ln P_water')\n",
    "for i in range(0, len(volume)):\n",
    "    print(\"{:.1f}\\t {:.2f}\\t {:.6f}\\t {:.1f}\\t   {:.4f}\\t {:.6f}\\t {:.6f}\\t {:.6f} \".format(temperature[i], temperature_K[i], inverse_temperature_K[i], volume[i], volume_L[i], pressure_air[i], pressure_water[i], log_pressure_water[i]))\n"
   ]
  },
  {
   "cell_type": "markdown",
   "id": "c12233c5-3f37-4322-a85b-27f4280bd7f3",
   "metadata": {},
   "source": [
    "Now we are ready to plot our data and then do a linear regression (best fit line). "
   ]
  },
  {
   "cell_type": "code",
   "execution_count": 61,
   "id": "d9dd7e93-745e-4fb4-abaa-918e2469b3fb",
   "metadata": {},
   "outputs": [
    {
     "data": {
      "text/plain": [
       "<matplotlib.legend.Legend at 0x7dbe7d9f3a10>"
      ]
     },
     "execution_count": 61,
     "metadata": {},
     "output_type": "execute_result"
    },
    {
     "data": {
      "image/png": "[encoded data removed]",
      "text/plain": [
       "<Figure size 640x480 with 1 Axes>"
      ]
     },
     "metadata": {},
     "output_type": "display_data"
    }
   ],
   "source": [
    "# Plot your data\n",
    "# You can change the text to represent the x and y axes labels\n",
    "plt.figure()\n",
    "plt.xlabel('1/T (1/K)')\n",
    "plt.ylabel('ln P_water')\n",
    "plt.plot(inverse_temperature_K, log_pressure_water, 'o', label='data')\n",
    "plt.legend()\n",
    "#plt.ylim(-10, 180)\n",
    "#plt.xlim(-300, 110)"
   ]
  },
  {
   "cell_type": "markdown",
   "id": "1745f7c3-6f31-4719-ae41-d05cef76d433",
   "metadata": {},
   "source": [
    "Does the data look like a straight line with decreasing slope? If yes, good! Now we do the linear regression fit. If we have the x and y values, we can use the stats package to compute the best fit line for this data. This is done with linear regression in the stats package / library, and will generate a slope, intercept, and rvalue from a linear regression fit. If you are curious, you can search for stats.linregress to find out more about how it works."
   ]
  },
  {
   "cell_type": "code",
   "execution_count": 62,
   "id": "42da3f46-be32-4df0-943c-8274fe885b4e",
   "metadata": {},
   "outputs": [
    {
     "name": "stdout",
     "output_type": "stream",
     "text": [
      "\n",
      "Determining best fit line... \n",
      "\n",
      "R-squared: 0.996276\n",
      "Slope: -5.868913e+03\n",
      "intercept: 1.583118e+01\n"
     ]
    }
   ],
   "source": [
    "print(\"\\nDetermining best fit line... \\n\")\n",
    "# Use linear regression to determine the best fit line\n",
    "fit = stats.linregress(inverse_temperature_K, log_pressure_water)\n",
    "print(f\"R-squared: {fit.rvalue**2:.6f}\")\n",
    "print(f\"Slope: {fit.slope:.6e}\")\n",
    "print(f\"intercept: {fit.intercept:.6e}\")"
   ]
  },
  {
   "cell_type": "markdown",
   "id": "ef35b43b-c81f-4756-9c56-1a901551072d",
   "metadata": {},
   "source": [
    "Think about your values - does the slope make sense based on your data? Let's save these values as text so that we can add them to our plot later. We will save each value in float format with four decimal places."
   ]
  },
  {
   "cell_type": "code",
   "execution_count": 64,
   "id": "018f4e7a-c4a0-4d8b-90ec-ab9c8858385a",
   "metadata": {},
   "outputs": [
    {
     "name": "stdout",
     "output_type": "stream",
     "text": [
      "R^2 = 0.9963\n",
      "y = -5868.9132 x + 15.8312\n"
     ]
    }
   ],
   "source": [
    "R_text = f\"R^2 = {fit.rvalue**2:.4f}\"\n",
    "eqn_text = f\"y = {fit.slope:.4f} x + {fit.intercept:.4f}\" # y = mx + b\n",
    "print(R_text)\n",
    "print(eqn_text)"
   ]
  },
  {
   "cell_type": "markdown",
   "id": "653fe674-d6c5-4834-baa7-c6f97209f324",
   "metadata": {},
   "source": [
    "Now we determine the fit values from our equation of the best fit line so that we can add them to the graph."
   ]
  },
  {
   "cell_type": "code",
   "execution_count": 67,
   "id": "aefce9b5-641f-4afd-9363-60bcc6251389",
   "metadata": {},
   "outputs": [
    {
     "name": "stdout",
     "output_type": "stream",
     "text": [
      "[-0.7875720809533711, -1.026244416347918, -1.2718720871757903, -1.524763625246834, -1.7852460844666425, -2.05366645193633, -2.3303931900533854]\n"
     ]
    }
   ],
   "source": [
    "# Use slope from the fit to determine the fitted values for the plot\n",
    "# We use y = mx + b to determine the y value for the best fit line\n",
    "fit_log_pressure_water = []  # create empty array\n",
    "for value in inverse_temperature_K:\n",
    "    temp = fit.slope * value + fit.intercept\n",
    "    fit_log_pressure_water.append(temp)\n",
    "\n",
    "print(fit_log_pressure_water)"
   ]
  },
  {
   "cell_type": "markdown",
   "id": "8b523ea5-16ec-49ee-914a-6efa47544dfa",
   "metadata": {},
   "source": [
    "Did you generate the right number of values for your array? If so, we will add this new array of best fit data to the plot, and add text for the equation for the best fit line.\n",
    "\n"
   ]
  },
  {
   "cell_type": "code",
   "execution_count": 70,
   "id": "dcdd00e2-9e78-4c7d-bb36-1bfc261db29b",
   "metadata": {},
   "outputs": [
    {
     "data": {
      "image/png": "[encoded data removed]",
      "text/plain": [
       "<Figure size 640x480 with 1 Axes>"
      ]
     },
     "metadata": {},
     "output_type": "display_data"
    }
   ],
   "source": [
    "plt.figure()\n",
    "plt.xlabel('1/T (1/K)')\n",
    "plt.ylabel('ln P_water')\n",
    "plt.plot(inverse_temperature_K, log_pressure_water, 'o', label='data')\n",
    "plt.plot(inverse_temperature_K, fit_log_pressure_water, '-', label='best fit line') \n",
    "plt.legend()\n",
    "#adding text inside the plot\n",
    "plt.figtext(0.2, 0.25, eqn_text)  # Place the equation text where you want it\n",
    "plt.figtext(0.2, 0.3, R_text)\n",
    "#plt.show()\n",
    "plt.savefig('Lab_3.Vaporization_of_Water.png')"
   ]
  },
  {
   "cell_type": "markdown",
   "id": "e61d3b38-1aab-4eb8-8f11-962e1b7cb1d2",
   "metadata": {},
   "source": [
    "The slope and the intercept of our line can be used to determine the enthalpy and entropy of vaporization with the Clausius-Clapeyron equation (Equation 3). Note that we now use the ideal gas constant value of R = 8.3145 J mol-1 K-1."
   ]
  },
  {
   "cell_type": "code",
   "execution_count": 73,
   "id": "716600cd-67a5-461a-9dce-52aaf48b95bf",
   "metadata": {},
   "outputs": [
    {
     "name": "stdout",
     "output_type": "stream",
     "text": [
      "48797.07902656012\n"
     ]
    }
   ],
   "source": [
    " # R is the ideal gas constant (8.3145 J mol-1 K-1).\n",
    "ideal_gas_constant = 8.3145\n",
    "\n",
    "enthalpy = -fit.slope * ideal_gas_constant\n",
    "print(enthalpy)"
   ]
  },
  {
   "cell_type": "code",
   "execution_count": 74,
   "id": "5f5ff60e-932d-4106-b620-67bc23771a60",
   "metadata": {},
   "outputs": [
    {
     "name": "stdout",
     "output_type": "stream",
     "text": [
      "131.62836799849475\n"
     ]
    }
   ],
   "source": [
    "entropy = fit.intercept * ideal_gas_constant\n",
    "print (entropy)"
   ]
  },
  {
   "cell_type": "markdown",
   "id": "e25bee22-72e0-46bf-9858-cf62d29d1c30",
   "metadata": {},
   "source": [
    "Use these values and Equation 3 (where P° is 1 atm) to determine the vapor\n",
    "pressure of water at 65 ºC and at the temperature when cooled to less than 3ºC."
   ]
  },
  {
   "cell_type": "code",
   "execution_count": null,
   "id": "40a17998-d50a-4bc7-8059-1f2e7ec5c59a",
   "metadata": {},
   "outputs": [],
   "source": []
  }
 ],
 "metadata": {
  "kernelspec": {
   "display_name": "Python 3 (ipykernel)",
   "language": "python",
   "name": "python3"
  },
  "language_info": {
   "codemirror_mode": {
    "name": "ipython",
    "version": 3
   },
   "file_extension": ".py",
   "mimetype": "text/x-python",
   "name": "python",
   "nbconvert_exporter": "python",
   "pygments_lexer": "ipython3",
   "version": "3.11.8"
  }
 },
 "nbformat": 4,
 "nbformat_minor": 5
}
